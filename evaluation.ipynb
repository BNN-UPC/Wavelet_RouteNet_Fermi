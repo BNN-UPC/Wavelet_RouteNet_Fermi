{
 "cells": [
  {
   "cell_type": "markdown",
   "metadata": {},
   "source": [
    "# Evaluation notebook\n",
    "\n",
    "Copyright 2024 Universitat Politècnica de Catalunya\n",
    "\n",
    "Licensed under the Apache License, Version 2.0 (the \"License\");\n",
    "you may not use this file except in compliance with the License.\n",
    "You may obtain a copy of the License at\n",
    "\n",
    "   http://www.apache.org/licenses/LICENSE-2.0\n",
    "\n",
    "Unless required by applicable law or agreed to in writing, software\n",
    "distributed under the License is distributed on an \"AS IS\" BASIS,\n",
    "WITHOUT WARRANTIES OR CONDITIONS OF ANY KIND, either express or implied.\n",
    "See the License for the specific language governing permissions and\n",
    "limitations under the License."
   ]
  },
  {
   "cell_type": "code",
   "execution_count": 1,
   "metadata": {},
   "outputs": [
    {
     "name": "stderr",
     "output_type": "stream",
     "text": [
      "2024-07-09 17:57:50.428807: E external/local_xla/xla/stream_executor/cuda/cuda_dnn.cc:9261] Unable to register cuDNN factory: Attempting to register factory for plugin cuDNN when one has already been registered\n",
      "2024-07-09 17:57:50.428846: E external/local_xla/xla/stream_executor/cuda/cuda_fft.cc:607] Unable to register cuFFT factory: Attempting to register factory for plugin cuFFT when one has already been registered\n",
      "2024-07-09 17:57:50.429541: E external/local_xla/xla/stream_executor/cuda/cuda_blas.cc:1515] Unable to register cuBLAS factory: Attempting to register factory for plugin cuBLAS when one has already been registered\n",
      "2024-07-09 17:57:50.434286: I tensorflow/core/platform/cpu_feature_guard.cc:182] This TensorFlow binary is optimized to use available CPU instructions in performance-critical operations.\n",
      "To enable the following instructions: AVX2 FMA, in other operations, rebuild TensorFlow with the appropriate compiler flags.\n",
      "2024-07-09 17:57:50.951010: W tensorflow/compiler/tf2tensorrt/utils/py_utils.cc:38] TF-TRT Warning: Could not find TensorRT\n"
     ]
    }
   ],
   "source": [
    "import os\n",
    "\n",
    "# It is recommended to run this script on CPU\n",
    "os.environ[\"CUDA_VISIBLE_DEVICES\"] = \"-1\"\n",
    "\n",
    "import tensorflow as tf\n",
    "import numpy as np\n",
    "import matplotlib.pyplot as plt\n",
    "from pickle import load\n",
    "\n",
    "from data.data_loader import load_partition\n",
    "import models"
   ]
  },
  {
   "cell_type": "markdown",
   "metadata": {},
   "source": [
    "### Step 1: prepare the test dataset\n",
    "\n",
    "For the combined dataset, we extract the MAWI samples in the test partition.\n",
    "\n",
    "For the split dataset, we use all the MAWI samples available (as none were used for\n",
    "training or validation)."
   ]
  },
  {
   "cell_type": "code",
   "execution_count": 2,
   "metadata": {},
   "outputs": [
    {
     "name": "stderr",
     "output_type": "stream",
     "text": [
      "2024-07-09 17:57:55.161285: E external/local_xla/xla/stream_executor/cuda/cuda_driver.cc:274] failed call to cuInit: CUDA_ERROR_NO_DEVICE: no CUDA-capable device is detected\n",
      "2024-07-09 17:57:55.161316: I external/local_xla/xla/stream_executor/cuda/cuda_diagnostics.cc:129] retrieving CUDA diagnostic information for host: saturn\n",
      "2024-07-09 17:57:55.161320: I external/local_xla/xla/stream_executor/cuda/cuda_diagnostics.cc:136] hostname: saturn\n",
      "2024-07-09 17:57:55.161414: I external/local_xla/xla/stream_executor/cuda/cuda_diagnostics.cc:159] libcuda reported version is: 535.146.2\n",
      "2024-07-09 17:57:55.161429: I external/local_xla/xla/stream_executor/cuda/cuda_diagnostics.cc:163] kernel reported version is: 535.146.2\n",
      "2024-07-09 17:57:55.161431: I external/local_xla/xla/stream_executor/cuda/cuda_diagnostics.cc:241] kernel version seems to match DSO: 535.146.2\n"
     ]
    },
    {
     "name": "stdout",
     "output_type": "stream",
     "text": [
      "1218\n",
      "393\n",
      "4046\n"
     ]
    }
   ],
   "source": [
    "def filter_only_mawi(x, y):\n",
    "    return tf.math.reduce_all(tf.math.equal(x[\"flow_time_dist\"], 2))\n",
    "\n",
    "# This function is used to get the size of a dataset after .filter is applied\n",
    "def get_ds_size_alt(ds):\n",
    "    return sum(1 for _ in ds)\n",
    "\n",
    "\n",
    "combined_test_ds = load_partition(\"data/combined_ds/test\").prefetch(\n",
    "    tf.data.experimental.AUTOTUNE\n",
    ")\n",
    "print(len(combined_test_ds))\n",
    "combined_test_ds = combined_test_ds.filter(filter_only_mawi)\n",
    "print(get_ds_size_alt(combined_test_ds))\n",
    "\n",
    "split_test_ds = load_partition(\"data/split_ds/test\").prefetch(\n",
    "    tf.data.experimental.AUTOTUNE\n",
    ")\n",
    "print(len(split_test_ds))"
   ]
  },
  {
   "cell_type": "markdown",
   "metadata": {},
   "source": [
    "# Step 2: Load models with checkpoint"
   ]
  },
  {
   "cell_type": "code",
   "execution_count": 3,
   "metadata": {},
   "outputs": [],
   "source": [
    "def get_prepared_model(model_class, model_parms, model_checkpoint):\n",
    "    \"\"\"Returns a model with the given parameters and checkpoint.\n",
    "\n",
    "    Parameters\n",
    "    ----------\n",
    "    model_class : tf.keras.Model\n",
    "        Model Class\n",
    "    model_parms : dict\n",
    "        Dict containing the necessary parameters for the model\n",
    "    model_checkpoint : str\n",
    "        Path to checkpoint to be restored. The checkpoint is loaded using\n",
    "        tf.keras.Model.load_weights\n",
    "    \"\"\"\n",
    "    optimizer = tf.keras.optimizers.Adam(learning_rate=0.001, clipnorm=1.0)\n",
    "    loss = tf.keras.losses.MeanAbsolutePercentageError()\n",
    "    model = model_class(**model_parms)\n",
    "    model.compile(optimizer=optimizer, loss=loss)\n",
    "    model.load_weights(model_checkpoint).expect_partial()\n",
    "    return model"
   ]
  },
  {
   "cell_type": "code",
   "execution_count": 4,
   "metadata": {},
   "outputs": [],
   "source": [
    "# Paper models: feel free to modify/ add yor own!\n",
    "with open(\"data/fermi_normalization/original/combined_ds/z_scores.pkl\", \"rb\") as ff:\n",
    "    parameter_model_z_scores = load(ff)\n",
    "\n",
    "parameter_model_w_mawi = get_prepared_model(\n",
    "    models.RouteNet_Fermi,\n",
    "    {\n",
    "        \"z_scores\": parameter_model_z_scores,\n",
    "        \"max_num_dist\": 3,\n",
    "    },\n",
    "    \"ckpt/paper_ckpts/combined_ds/RouteNet_Fermi\",\n",
    ")\n",
    "single_level_wlt_model_w_mawi = get_prepared_model(\n",
    "    models.RouteNet_Fermi_wavelet_single_level,\n",
    "    {\"wt_field\": \"coif2_cA10\"},\n",
    "    \"ckpt/paper_ckpts/combined_ds/RouteNet_Fermi_wavelet_single_level\",\n",
    ")\n",
    "multi_level_wlt_model_w_mawi = get_prepared_model(\n",
    "    models.RouteNet_Fermi_wavelet_multiple_level,\n",
    "    {\"wt_fields\": [\"db1_cD4\", \"db1_cD6\", \"db1_cD8\", \"db1_cD10\", \"db1_cA10\"]},\n",
    "    \"ckpt/paper_ckpts/combined_ds/RouteNet_Fermi_wavelet_multiple_level\",\n",
    ")\n",
    "\n",
    "\n",
    "with open(\"data/fermi_normalization/original/split_ds/z_scores.pkl\", \"rb\") as ff:\n",
    "    parameter_model_z_scores = load(ff)\n",
    "   \n",
    "parameter_model_wo_mawi = get_prepared_model(\n",
    "    models.RouteNet_Fermi,\n",
    "    {\n",
    "        \"z_scores\": parameter_model_z_scores,\n",
    "        \"max_num_dist\": 2,\n",
    "    },\n",
    "    \"ckpt/paper_ckpts/split_ds/RouteNet_Fermi\",\n",
    ")\n",
    "single_level_wlt_model_wo_mawi = get_prepared_model(\n",
    "    models.RouteNet_Fermi_wavelet_single_level,\n",
    "    {\"wt_field\": \"coif2_cA10\"},\n",
    "    \"ckpt/paper_ckpts/split_ds/RouteNet_Fermi_wavelet_single_level\",\n",
    ")\n",
    "multi_level_wlt_model_wo_mawi = get_prepared_model(\n",
    "    models.RouteNet_Fermi_wavelet_multiple_level,\n",
    "    {\"wt_fields\": [\"db1_cD4\", \"db1_cD6\", \"db1_cD8\", \"db1_cD10\", \"db1_cA10\"]},\n",
    "    \"ckpt/paper_ckpts/split_ds/RouteNet_Fermi_wavelet_multiple_level\",\n",
    ")"
   ]
  },
  {
   "cell_type": "markdown",
   "metadata": {},
   "source": [
    "Step 3: Perform the evaluations"
   ]
  },
  {
   "cell_type": "code",
   "execution_count": 5,
   "metadata": {},
   "outputs": [
    {
     "name": "stdout",
     "output_type": "stream",
     "text": [
      "393/393 [==============================] - 13s 21ms/step - loss: 19.1680\n",
      "393/393 [==============================] - 14s 23ms/step - loss: 18.8331\n",
      "393/393 [==============================] - 325s 814ms/step - loss: 18.7809\n",
      "4046/4046 [==============================] - 46s 10ms/step - loss: 38.4395\n",
      "4046/4046 [==============================] - 97s 23ms/step - loss: 21.8913\n",
      "4046/4046 [==============================] - 3282s 810ms/step - loss: 20.9561\n"
     ]
    }
   ],
   "source": [
    "combined_scores = [\n",
    "    parameter_model_w_mawi.evaluate(combined_test_ds),\n",
    "    single_level_wlt_model_w_mawi.evaluate(combined_test_ds),\n",
    "    multi_level_wlt_model_w_mawi.evaluate(combined_test_ds),\n",
    "]\n",
    "\n",
    "split_scores = [\n",
    "    parameter_model_wo_mawi.evaluate(split_test_ds),\n",
    "    single_level_wlt_model_wo_mawi.evaluate(split_test_ds),\n",
    "    multi_level_wlt_model_wo_mawi.evaluate(split_test_ds),\n",
    "]"
   ]
  },
  {
   "cell_type": "markdown",
   "metadata": {},
   "source": [
    "Step 4: Plot the results"
   ]
  },
  {
   "cell_type": "code",
   "execution_count": 6,
   "metadata": {},
   "outputs": [
    {
     "data": {
      "image/png": "[encoded data removed]",
      "text/plain": [
       "<Figure size 600x250 with 1 Axes>"
      ]
     },
     "metadata": {},
     "output_type": "display_data"
    }
   ],
   "source": [
    "variants = [\n",
    "    \"Parameter-Based\\nEncoding\",\n",
    "    \"Single-level\\nWavelet Decomposition\",\n",
    "    \"Multiple-level\\nWavelet Decomposition\",\n",
    "]\n",
    "data = {\n",
    "    \"Trained with MAWI\": combined_scores,\n",
    "    \"Trained without MAWI\": split_scores,\n",
    "}\n",
    "hatches = [\"\", \"..\"]\n",
    "colors = [\"#4A4FF0\", \"#F04B46\"]\n",
    "width = 0.25\n",
    "x = np.arange(len(variants))\n",
    "\n",
    "fig, ax = plt.subplots(figsize=(6, 2.5))\n",
    "\n",
    "for ii, (experiment, vals) in enumerate(data.items()):\n",
    "    ax.bar(\n",
    "        x + (width * (ii + 0.5)),\n",
    "        vals,\n",
    "        width,\n",
    "        label=experiment,\n",
    "        hatch=hatches[ii],\n",
    "        color=colors[ii],\n",
    "        edgecolor=\"black\",\n",
    "        linewidth=0,\n",
    "    )\n",
    "\n",
    "ax.set_ylabel(\"MAPE (%)\")\n",
    "ax.set_xticks(x + width, variants)\n",
    "ax.legend()\n",
    "fig.tight_layout()\n",
    "ax.set_ylim(0, 43)\n",
    "ax.set_axisbelow(True)\n",
    "ax.grid(axis=\"y\", alpha=0.6)\n",
    "\n",
    "plt.show(block=True)\n",
    "plt.close(fig)"
   ]
  },
  {
   "cell_type": "code",
   "execution_count": null,
   "metadata": {},
   "outputs": [],
   "source": []
  }
 ],
 "metadata": {
  "kernelspec": {
   "display_name": "TF2.15",
   "language": "python",
   "name": "python3"
  },
  "language_info": {
   "codemirror_mode": {
    "name": "ipython",
    "version": 3
   },
   "file_extension": ".py",
   "mimetype": "text/x-python",
   "name": "python",
   "nbconvert_exporter": "python",
   "pygments_lexer": "ipython3",
   "version": "3.10.12"
  }
 },
 "nbformat": 4,
 "nbformat_minor": 2
}
